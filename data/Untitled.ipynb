{
 "cells": [
  {
   "cell_type": "code",
   "execution_count": 8,
   "metadata": {},
   "outputs": [],
   "source": [
    "import pandas as pd\n",
    "import matplotlib.pyplot as plt\n",
    "import seaborn as sns"
   ]
  },
  {
   "cell_type": "code",
   "execution_count": 73,
   "metadata": {},
   "outputs": [],
   "source": [
    "rt_table = pd.read_csv(\"demo_data_processed.csv\")"
   ]
  },
  {
   "cell_type": "code",
   "execution_count": 192,
   "metadata": {},
   "outputs": [],
   "source": [
    "df1 = pd.read_csv(\"demo_data.csv\")"
   ]
  },
  {
   "cell_type": "code",
   "execution_count": 143,
   "metadata": {},
   "outputs": [],
   "source": [
    "df1 = df1.drop([\"Unnamed: 0\"], axis = 1)"
   ]
  },
  {
   "cell_type": "code",
   "execution_count": 144,
   "metadata": {},
   "outputs": [],
   "source": [
    "#df1.to_csv(\"demo_data.csv\", index = False)"
   ]
  },
  {
   "cell_type": "code",
   "execution_count": 263,
   "metadata": {},
   "outputs": [],
   "source": [
    "df2 = df1.copy()"
   ]
  },
  {
   "cell_type": "code",
   "execution_count": 264,
   "metadata": {},
   "outputs": [
    {
     "data": {
      "text/html": [
       "<div>\n",
       "<style scoped>\n",
       "    .dataframe tbody tr th:only-of-type {\n",
       "        vertical-align: middle;\n",
       "    }\n",
       "\n",
       "    .dataframe tbody tr th {\n",
       "        vertical-align: top;\n",
       "    }\n",
       "\n",
       "    .dataframe thead th {\n",
       "        text-align: right;\n",
       "    }\n",
       "</style>\n",
       "<table border=\"1\" class=\"dataframe\">\n",
       "  <thead>\n",
       "    <tr style=\"text-align: right;\">\n",
       "      <th></th>\n",
       "      <th>group</th>\n",
       "      <th>target</th>\n",
       "      <th>normalizer</th>\n",
       "    </tr>\n",
       "  </thead>\n",
       "  <tbody>\n",
       "    <tr>\n",
       "      <th>0</th>\n",
       "      <td>no_treatment</td>\n",
       "      <td>25.60</td>\n",
       "      <td>17.5</td>\n",
       "    </tr>\n",
       "    <tr>\n",
       "      <th>1</th>\n",
       "      <td>no_treatment</td>\n",
       "      <td>25.80</td>\n",
       "      <td>16.9</td>\n",
       "    </tr>\n",
       "    <tr>\n",
       "      <th>2</th>\n",
       "      <td>no_treatment</td>\n",
       "      <td>26.00</td>\n",
       "      <td>17.4</td>\n",
       "    </tr>\n",
       "    <tr>\n",
       "      <th>3</th>\n",
       "      <td>no_treatment</td>\n",
       "      <td>25.40</td>\n",
       "      <td>17.7</td>\n",
       "    </tr>\n",
       "    <tr>\n",
       "      <th>4</th>\n",
       "      <td>no_treatment</td>\n",
       "      <td>25.45</td>\n",
       "      <td>17.2</td>\n",
       "    </tr>\n",
       "  </tbody>\n",
       "</table>\n",
       "</div>"
      ],
      "text/plain": [
       "          group  target  normalizer\n",
       "0  no_treatment   25.60        17.5\n",
       "1  no_treatment   25.80        16.9\n",
       "2  no_treatment   26.00        17.4\n",
       "3  no_treatment   25.40        17.7\n",
       "4  no_treatment   25.45        17.2"
      ]
     },
     "execution_count": 264,
     "metadata": {},
     "output_type": "execute_result"
    }
   ],
   "source": [
    "df2.head()"
   ]
  },
  {
   "cell_type": "code",
   "execution_count": 265,
   "metadata": {},
   "outputs": [],
   "source": [
    "df2.group = df2.group.replace(\"no_treatment\", \"control\")"
   ]
  },
  {
   "cell_type": "code",
   "execution_count": 266,
   "metadata": {},
   "outputs": [],
   "source": [
    "df3 = df2[df2.group == \"treatment\"]"
   ]
  },
  {
   "cell_type": "code",
   "execution_count": 267,
   "metadata": {},
   "outputs": [
    {
     "name": "stderr",
     "output_type": "stream",
     "text": [
      "/Users/patricklong/anaconda3/lib/python3.7/site-packages/pandas/core/generic.py:5303: SettingWithCopyWarning: \n",
      "A value is trying to be set on a copy of a slice from a DataFrame.\n",
      "Try using .loc[row_indexer,col_indexer] = value instead\n",
      "\n",
      "See the caveats in the documentation: https://pandas.pydata.org/pandas-docs/stable/user_guide/indexing.html#returning-a-view-versus-a-copy\n",
      "  self[name] = value\n"
     ]
    }
   ],
   "source": [
    "df3.target = df3.target * 1.03"
   ]
  },
  {
   "cell_type": "code",
   "execution_count": 268,
   "metadata": {},
   "outputs": [
    {
     "data": {
      "text/html": [
       "<div>\n",
       "<style scoped>\n",
       "    .dataframe tbody tr th:only-of-type {\n",
       "        vertical-align: middle;\n",
       "    }\n",
       "\n",
       "    .dataframe tbody tr th {\n",
       "        vertical-align: top;\n",
       "    }\n",
       "\n",
       "    .dataframe thead th {\n",
       "        text-align: right;\n",
       "    }\n",
       "</style>\n",
       "<table border=\"1\" class=\"dataframe\">\n",
       "  <thead>\n",
       "    <tr style=\"text-align: right;\">\n",
       "      <th></th>\n",
       "      <th>group</th>\n",
       "      <th>target</th>\n",
       "      <th>normalizer</th>\n",
       "    </tr>\n",
       "  </thead>\n",
       "  <tbody>\n",
       "    <tr>\n",
       "      <th>10</th>\n",
       "      <td>treatment</td>\n",
       "      <td>25.94982</td>\n",
       "      <td>17.9</td>\n",
       "    </tr>\n",
       "    <tr>\n",
       "      <th>11</th>\n",
       "      <td>treatment</td>\n",
       "      <td>26.15994</td>\n",
       "      <td>17.3</td>\n",
       "    </tr>\n",
       "    <tr>\n",
       "      <th>12</th>\n",
       "      <td>treatment</td>\n",
       "      <td>25.02900</td>\n",
       "      <td>17.4</td>\n",
       "    </tr>\n",
       "    <tr>\n",
       "      <th>13</th>\n",
       "      <td>treatment</td>\n",
       "      <td>25.23500</td>\n",
       "      <td>17.3</td>\n",
       "    </tr>\n",
       "    <tr>\n",
       "      <th>14</th>\n",
       "      <td>treatment</td>\n",
       "      <td>25.44100</td>\n",
       "      <td>17.9</td>\n",
       "    </tr>\n",
       "    <tr>\n",
       "      <th>15</th>\n",
       "      <td>treatment</td>\n",
       "      <td>25.64700</td>\n",
       "      <td>17.3</td>\n",
       "    </tr>\n",
       "    <tr>\n",
       "      <th>16</th>\n",
       "      <td>treatment</td>\n",
       "      <td>25.73970</td>\n",
       "      <td>17.3</td>\n",
       "    </tr>\n",
       "    <tr>\n",
       "      <th>17</th>\n",
       "      <td>treatment</td>\n",
       "      <td>25.52958</td>\n",
       "      <td>17.4</td>\n",
       "    </tr>\n",
       "  </tbody>\n",
       "</table>\n",
       "</div>"
      ],
      "text/plain": [
       "        group    target  normalizer\n",
       "10  treatment  25.94982        17.9\n",
       "11  treatment  26.15994        17.3\n",
       "12  treatment  25.02900        17.4\n",
       "13  treatment  25.23500        17.3\n",
       "14  treatment  25.44100        17.9\n",
       "15  treatment  25.64700        17.3\n",
       "16  treatment  25.73970        17.3\n",
       "17  treatment  25.52958        17.4"
      ]
     },
     "execution_count": 268,
     "metadata": {},
     "output_type": "execute_result"
    }
   ],
   "source": [
    "df3"
   ]
  },
  {
   "cell_type": "code",
   "execution_count": 269,
   "metadata": {},
   "outputs": [
    {
     "name": "stderr",
     "output_type": "stream",
     "text": [
      "/Users/patricklong/anaconda3/lib/python3.7/site-packages/pandas/core/generic.py:5303: SettingWithCopyWarning: \n",
      "A value is trying to be set on a copy of a slice from a DataFrame.\n",
      "Try using .loc[row_indexer,col_indexer] = value instead\n",
      "\n",
      "See the caveats in the documentation: https://pandas.pydata.org/pandas-docs/stable/user_guide/indexing.html#returning-a-view-versus-a-copy\n",
      "  self[name] = value\n"
     ]
    }
   ],
   "source": [
    "df3.normalizer = df3.normalizer * 1.005"
   ]
  },
  {
   "cell_type": "code",
   "execution_count": 270,
   "metadata": {},
   "outputs": [],
   "source": [
    "df3.group = df3.group.replace(\"treatment\", \"trt_b\") "
   ]
  },
  {
   "cell_type": "code",
   "execution_count": 271,
   "metadata": {},
   "outputs": [
    {
     "data": {
      "text/html": [
       "<div>\n",
       "<style scoped>\n",
       "    .dataframe tbody tr th:only-of-type {\n",
       "        vertical-align: middle;\n",
       "    }\n",
       "\n",
       "    .dataframe tbody tr th {\n",
       "        vertical-align: top;\n",
       "    }\n",
       "\n",
       "    .dataframe thead th {\n",
       "        text-align: right;\n",
       "    }\n",
       "</style>\n",
       "<table border=\"1\" class=\"dataframe\">\n",
       "  <thead>\n",
       "    <tr style=\"text-align: right;\">\n",
       "      <th></th>\n",
       "      <th>group</th>\n",
       "      <th>target</th>\n",
       "      <th>normalizer</th>\n",
       "    </tr>\n",
       "  </thead>\n",
       "  <tbody>\n",
       "    <tr>\n",
       "      <th>10</th>\n",
       "      <td>trt_b</td>\n",
       "      <td>25.94982</td>\n",
       "      <td>17.9895</td>\n",
       "    </tr>\n",
       "    <tr>\n",
       "      <th>11</th>\n",
       "      <td>trt_b</td>\n",
       "      <td>26.15994</td>\n",
       "      <td>17.3865</td>\n",
       "    </tr>\n",
       "    <tr>\n",
       "      <th>12</th>\n",
       "      <td>trt_b</td>\n",
       "      <td>25.02900</td>\n",
       "      <td>17.4870</td>\n",
       "    </tr>\n",
       "    <tr>\n",
       "      <th>13</th>\n",
       "      <td>trt_b</td>\n",
       "      <td>25.23500</td>\n",
       "      <td>17.3865</td>\n",
       "    </tr>\n",
       "    <tr>\n",
       "      <th>14</th>\n",
       "      <td>trt_b</td>\n",
       "      <td>25.44100</td>\n",
       "      <td>17.9895</td>\n",
       "    </tr>\n",
       "    <tr>\n",
       "      <th>15</th>\n",
       "      <td>trt_b</td>\n",
       "      <td>25.64700</td>\n",
       "      <td>17.3865</td>\n",
       "    </tr>\n",
       "    <tr>\n",
       "      <th>16</th>\n",
       "      <td>trt_b</td>\n",
       "      <td>25.73970</td>\n",
       "      <td>17.3865</td>\n",
       "    </tr>\n",
       "    <tr>\n",
       "      <th>17</th>\n",
       "      <td>trt_b</td>\n",
       "      <td>25.52958</td>\n",
       "      <td>17.4870</td>\n",
       "    </tr>\n",
       "  </tbody>\n",
       "</table>\n",
       "</div>"
      ],
      "text/plain": [
       "    group    target  normalizer\n",
       "10  trt_b  25.94982     17.9895\n",
       "11  trt_b  26.15994     17.3865\n",
       "12  trt_b  25.02900     17.4870\n",
       "13  trt_b  25.23500     17.3865\n",
       "14  trt_b  25.44100     17.9895\n",
       "15  trt_b  25.64700     17.3865\n",
       "16  trt_b  25.73970     17.3865\n",
       "17  trt_b  25.52958     17.4870"
      ]
     },
     "execution_count": 271,
     "metadata": {},
     "output_type": "execute_result"
    }
   ],
   "source": [
    "df3"
   ]
  },
  {
   "cell_type": "code",
   "execution_count": 272,
   "metadata": {},
   "outputs": [],
   "source": [
    "df2.group = df2.group.replace(\"treatment\", \"trt_a\") "
   ]
  },
  {
   "cell_type": "code",
   "execution_count": 273,
   "metadata": {},
   "outputs": [],
   "source": [
    "df4 = pd.concat([df2, df3], axis = 0)"
   ]
  },
  {
   "cell_type": "code",
   "execution_count": 303,
   "metadata": {},
   "outputs": [
    {
     "data": {
      "text/plain": [
       "group\n",
       "control    25.90650\n",
       "trt_a      24.84600\n",
       "trt_b      25.59138\n",
       "Name: egf1r, dtype: float64"
      ]
     },
     "execution_count": 303,
     "metadata": {},
     "output_type": "execute_result"
    }
   ],
   "source": [
    "df4.groupby([\"group\"])[\"egf1r\"].mean()"
   ]
  },
  {
   "cell_type": "code",
   "execution_count": 304,
   "metadata": {},
   "outputs": [
    {
     "data": {
      "text/plain": [
       "group\n",
       "control    17.340000\n",
       "trt_a      17.475000\n",
       "trt_b      17.562375\n",
       "Name: rpl19, dtype: float64"
      ]
     },
     "execution_count": 304,
     "metadata": {},
     "output_type": "execute_result"
    }
   ],
   "source": [
    "df4.groupby([\"group\"])[\"rpl19\"].mean()"
   ]
  },
  {
   "cell_type": "code",
   "execution_count": 281,
   "metadata": {},
   "outputs": [],
   "source": [
    "df4 = pd.read_csv(\"demo_data_extended.csv\")"
   ]
  },
  {
   "cell_type": "code",
   "execution_count": 284,
   "metadata": {},
   "outputs": [],
   "source": [
    "df4.rename(columns = {\"target\": \"egf1r\", \"normalizer\": \"rpl19\" }, inplace = True)"
   ]
  },
  {
   "cell_type": "code",
   "execution_count": 286,
   "metadata": {},
   "outputs": [],
   "source": [
    "df4.to_csv(\"demo_data_extended.csv\", index = False)"
   ]
  },
  {
   "cell_type": "code",
   "execution_count": 288,
   "metadata": {},
   "outputs": [],
   "source": [
    "df5 = pd.read_csv(\"demo_data_extended_processed.csv\")"
   ]
  },
  {
   "cell_type": "code",
   "execution_count": 298,
   "metadata": {
    "scrolled": true
   },
   "outputs": [
    {
     "name": "stdout",
     "output_type": "stream",
     "text": [
      "|    | group   |   rpl19 |   egf1r |   delta_ct |   delta_delta_ct |   fold_change |\n",
      "|---:|:--------|--------:|--------:|-----------:|-----------------:|--------------:|\n",
      "|  3 | control | 17.7    | 25.4    |    7.7     |         -0.8665  |      1.82323  |\n",
      "|  8 | control | 16.9    | 26.316  |    9.416   |          0.8495  |      0.554977 |\n",
      "|  7 | control | 17.5    | 26.112  |    8.612   |          0.0455  |      0.968954 |\n",
      "| 11 | trt_a   | 17.3    | 25.398  |    8.098   |         -0.4685  |      1.38367  |\n",
      "| 15 | trt_a   | 17.3    | 24.9    |    7.6     |         -0.9665  |      1.95409  |\n",
      "| 18 | trt_b   | 17.9895 | 25.9498 |    7.96032 |         -0.60618 |      1.52222  |\n",
      "| 23 | trt_b   | 17.3865 | 25.647  |    8.2605  |         -0.306   |      1.23628  |\n",
      "| 19 | trt_b   | 17.3865 | 26.1599 |    8.77344 |          0.20694 |      0.866373 |\n",
      "| 24 | trt_b   | 17.3865 | 25.7397 |    8.3532  |         -0.2133  |      1.15934  |\n",
      "| 25 | trt_b   | 17.487  | 25.5296 |    8.04258 |         -0.52392 |      1.43786  |\n"
     ]
    }
   ],
   "source": [
    "print(df5.sample(10).sort_values(by = \"group\").to_markdown())"
   ]
  },
  {
   "cell_type": "code",
   "execution_count": 290,
   "metadata": {},
   "outputs": [],
   "source": [
    "rt_table = df5"
   ]
  },
  {
   "cell_type": "code",
   "execution_count": 292,
   "metadata": {},
   "outputs": [
    {
     "data": {
      "image/png": "[encoded data removed]",
      "text/plain": [
       "<Figure size 432x288 with 2 Axes>"
      ]
     },
     "metadata": {},
     "output_type": "display_data"
    }
   ],
   "source": [
    "f, axes = plt.subplots(1, 2)\n",
    "sns.set(style = \"white\")\n",
    "plt.xticks(rotation=45)\n",
    "sns.boxplot(x = \"group\",\n",
    "              y =  \"fold_change\",                                                                                                                                         \n",
    "              data = rt_table,\n",
    "           ax=axes[0], width=.5, palette='GnBu')\n",
    "\n",
    "sns.boxplot(x = \"group\",\n",
    "              y =  \"egf1r\",                                                                                                                                         \n",
    "              data = rt_table,\n",
    "           ax=axes[1], width=.5, palette='GnBu')\n",
    "\n",
    "sns.swarmplot(x = \"group\",\n",
    "              y =  \"fold_change\",                                                                                                                                         \n",
    "              data = rt_table,\n",
    "           ax=axes[0], color=\".25\")\n",
    "\n",
    "sns.swarmplot(x = \"group\",\n",
    "              y =  \"egf1r\",                                                                                                                                         \n",
    "              data = rt_table,\n",
    "           ax=axes[1], color=\".25\")\n",
    "\n",
    "plt.tight_layout()\n",
    "sns.despine(left=True)\n",
    "axes[0].set_ylabel('Fold Change')\n",
    "axes[1].set_ylabel('Normalizer ct values')\n",
    "axes[0].tick_params(labelrotation=45)\n",
    "axes[1].tick_params(labelrotation=45)\n",
    "\n",
    "\n",
    "f.savefig(\"test.png\", dpi=300, bbox_inches=\"tight\")"
   ]
  },
  {
   "cell_type": "code",
   "execution_count": null,
   "metadata": {},
   "outputs": [],
   "source": [
    "def visualize_rt(df):\n",
    "    \"\"\"Visualization fold change in target gene expression\"\"\"\n",
    "\n",
    "    #output = self.output_path +  \".png\"\n",
    "    #logger.info(f\"Saving output figure: {output}\")\n",
    "    sns.set(style = \"white\")\n",
    "    sns.boxplot(x = \"group\",\n",
    "              y =  \"fold_change\",                                                                                                                                         \n",
    "              data = self.rt_table)\n",
    "    \n",
    "    return figz\n",
    "    #plt.savefig(output, dpi=300)"
   ]
  }
 ],
 "metadata": {
  "kernelspec": {
   "display_name": "Python 3",
   "language": "python",
   "name": "python3"
  },
  "language_info": {
   "codemirror_mode": {
    "name": "ipython",
    "version": 3
   },
   "file_extension": ".py",
   "mimetype": "text/x-python",
   "name": "python",
   "nbconvert_exporter": "python",
   "pygments_lexer": "ipython3",
   "version": "3.7.3"
  }
 },
 "nbformat": 4,
 "nbformat_minor": 2
}
